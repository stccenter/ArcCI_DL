{
  "nbformat": 4,
  "nbformat_minor": 0,
  "metadata": {
    "colab": {
      "name": "data_splitting_no_he.ipynb",
      "provenance": [],
      "collapsed_sections": []
    },
    "kernelspec": {
      "name": "python3",
      "display_name": "Python 3"
    },
    "language_info": {
      "name": "python"
    },
    "widgets": {
      "application/vnd.jupyter.widget-state+json": {
        "6818ce26f43d4c6da0ac0cb80d34b3fc": {
          "model_module": "@jupyter-widgets/controls",
          "model_name": "HBoxModel",
          "model_module_version": "1.5.0",
          "state": {
            "_dom_classes": [],
            "_model_module": "@jupyter-widgets/controls",
            "_model_module_version": "1.5.0",
            "_model_name": "HBoxModel",
            "_view_count": null,
            "_view_module": "@jupyter-widgets/controls",
            "_view_module_version": "1.5.0",
            "_view_name": "HBoxView",
            "box_style": "",
            "children": [
              "IPY_MODEL_bb3596adcbfa4fb4b94efacae74da341",
              "IPY_MODEL_6c1e433a7808470bb7cf6cde780ecb7c",
              "IPY_MODEL_517b611e23f443c68f993fa2520c021a"
            ],
            "layout": "IPY_MODEL_853a985d819e458b9969ad2b01d613ab"
          }
        },
        "bb3596adcbfa4fb4b94efacae74da341": {
          "model_module": "@jupyter-widgets/controls",
          "model_name": "HTMLModel",
          "model_module_version": "1.5.0",
          "state": {
            "_dom_classes": [],
            "_model_module": "@jupyter-widgets/controls",
            "_model_module_version": "1.5.0",
            "_model_name": "HTMLModel",
            "_view_count": null,
            "_view_module": "@jupyter-widgets/controls",
            "_view_module_version": "1.5.0",
            "_view_name": "HTMLView",
            "description": "",
            "description_tooltip": null,
            "layout": "IPY_MODEL_9bafcbe042e64cde8691da34552f8ca8",
            "placeholder": "​",
            "style": "IPY_MODEL_6d8c14209b8849ee91c8e20dd0044a3a",
            "value": "100%"
          }
        },
        "6c1e433a7808470bb7cf6cde780ecb7c": {
          "model_module": "@jupyter-widgets/controls",
          "model_name": "FloatProgressModel",
          "model_module_version": "1.5.0",
          "state": {
            "_dom_classes": [],
            "_model_module": "@jupyter-widgets/controls",
            "_model_module_version": "1.5.0",
            "_model_name": "FloatProgressModel",
            "_view_count": null,
            "_view_module": "@jupyter-widgets/controls",
            "_view_module_version": "1.5.0",
            "_view_name": "ProgressView",
            "bar_style": "success",
            "description": "",
            "description_tooltip": null,
            "layout": "IPY_MODEL_b3eb39992f68458f97b7c31e0c734969",
            "max": 9,
            "min": 0,
            "orientation": "horizontal",
            "style": "IPY_MODEL_2ad0140be2ec420eb8e013b62257c8c4",
            "value": 9
          }
        },
        "517b611e23f443c68f993fa2520c021a": {
          "model_module": "@jupyter-widgets/controls",
          "model_name": "HTMLModel",
          "model_module_version": "1.5.0",
          "state": {
            "_dom_classes": [],
            "_model_module": "@jupyter-widgets/controls",
            "_model_module_version": "1.5.0",
            "_model_name": "HTMLModel",
            "_view_count": null,
            "_view_module": "@jupyter-widgets/controls",
            "_view_module_version": "1.5.0",
            "_view_name": "HTMLView",
            "description": "",
            "description_tooltip": null,
            "layout": "IPY_MODEL_8e8c617900ba4c949109a296ae3db61c",
            "placeholder": "​",
            "style": "IPY_MODEL_a6de3cad19964898bf9661bfe10d4b09",
            "value": " 9/9 [00:47&lt;00:00,  5.20s/it]"
          }
        },
        "853a985d819e458b9969ad2b01d613ab": {
          "model_module": "@jupyter-widgets/base",
          "model_name": "LayoutModel",
          "model_module_version": "1.2.0",
          "state": {
            "_model_module": "@jupyter-widgets/base",
            "_model_module_version": "1.2.0",
            "_model_name": "LayoutModel",
            "_view_count": null,
            "_view_module": "@jupyter-widgets/base",
            "_view_module_version": "1.2.0",
            "_view_name": "LayoutView",
            "align_content": null,
            "align_items": null,
            "align_self": null,
            "border": null,
            "bottom": null,
            "display": null,
            "flex": null,
            "flex_flow": null,
            "grid_area": null,
            "grid_auto_columns": null,
            "grid_auto_flow": null,
            "grid_auto_rows": null,
            "grid_column": null,
            "grid_gap": null,
            "grid_row": null,
            "grid_template_areas": null,
            "grid_template_columns": null,
            "grid_template_rows": null,
            "height": null,
            "justify_content": null,
            "justify_items": null,
            "left": null,
            "margin": null,
            "max_height": null,
            "max_width": null,
            "min_height": null,
            "min_width": null,
            "object_fit": null,
            "object_position": null,
            "order": null,
            "overflow": null,
            "overflow_x": null,
            "overflow_y": null,
            "padding": null,
            "right": null,
            "top": null,
            "visibility": null,
            "width": null
          }
        },
        "9bafcbe042e64cde8691da34552f8ca8": {
          "model_module": "@jupyter-widgets/base",
          "model_name": "LayoutModel",
          "model_module_version": "1.2.0",
          "state": {
            "_model_module": "@jupyter-widgets/base",
            "_model_module_version": "1.2.0",
            "_model_name": "LayoutModel",
            "_view_count": null,
            "_view_module": "@jupyter-widgets/base",
            "_view_module_version": "1.2.0",
            "_view_name": "LayoutView",
            "align_content": null,
            "align_items": null,
            "align_self": null,
            "border": null,
            "bottom": null,
            "display": null,
            "flex": null,
            "flex_flow": null,
            "grid_area": null,
            "grid_auto_columns": null,
            "grid_auto_flow": null,
            "grid_auto_rows": null,
            "grid_column": null,
            "grid_gap": null,
            "grid_row": null,
            "grid_template_areas": null,
            "grid_template_columns": null,
            "grid_template_rows": null,
            "height": null,
            "justify_content": null,
            "justify_items": null,
            "left": null,
            "margin": null,
            "max_height": null,
            "max_width": null,
            "min_height": null,
            "min_width": null,
            "object_fit": null,
            "object_position": null,
            "order": null,
            "overflow": null,
            "overflow_x": null,
            "overflow_y": null,
            "padding": null,
            "right": null,
            "top": null,
            "visibility": null,
            "width": null
          }
        },
        "6d8c14209b8849ee91c8e20dd0044a3a": {
          "model_module": "@jupyter-widgets/controls",
          "model_name": "DescriptionStyleModel",
          "model_module_version": "1.5.0",
          "state": {
            "_model_module": "@jupyter-widgets/controls",
            "_model_module_version": "1.5.0",
            "_model_name": "DescriptionStyleModel",
            "_view_count": null,
            "_view_module": "@jupyter-widgets/base",
            "_view_module_version": "1.2.0",
            "_view_name": "StyleView",
            "description_width": ""
          }
        },
        "b3eb39992f68458f97b7c31e0c734969": {
          "model_module": "@jupyter-widgets/base",
          "model_name": "LayoutModel",
          "model_module_version": "1.2.0",
          "state": {
            "_model_module": "@jupyter-widgets/base",
            "_model_module_version": "1.2.0",
            "_model_name": "LayoutModel",
            "_view_count": null,
            "_view_module": "@jupyter-widgets/base",
            "_view_module_version": "1.2.0",
            "_view_name": "LayoutView",
            "align_content": null,
            "align_items": null,
            "align_self": null,
            "border": null,
            "bottom": null,
            "display": null,
            "flex": null,
            "flex_flow": null,
            "grid_area": null,
            "grid_auto_columns": null,
            "grid_auto_flow": null,
            "grid_auto_rows": null,
            "grid_column": null,
            "grid_gap": null,
            "grid_row": null,
            "grid_template_areas": null,
            "grid_template_columns": null,
            "grid_template_rows": null,
            "height": null,
            "justify_content": null,
            "justify_items": null,
            "left": null,
            "margin": null,
            "max_height": null,
            "max_width": null,
            "min_height": null,
            "min_width": null,
            "object_fit": null,
            "object_position": null,
            "order": null,
            "overflow": null,
            "overflow_x": null,
            "overflow_y": null,
            "padding": null,
            "right": null,
            "top": null,
            "visibility": null,
            "width": null
          }
        },
        "2ad0140be2ec420eb8e013b62257c8c4": {
          "model_module": "@jupyter-widgets/controls",
          "model_name": "ProgressStyleModel",
          "model_module_version": "1.5.0",
          "state": {
            "_model_module": "@jupyter-widgets/controls",
            "_model_module_version": "1.5.0",
            "_model_name": "ProgressStyleModel",
            "_view_count": null,
            "_view_module": "@jupyter-widgets/base",
            "_view_module_version": "1.2.0",
            "_view_name": "StyleView",
            "bar_color": null,
            "description_width": ""
          }
        },
        "8e8c617900ba4c949109a296ae3db61c": {
          "model_module": "@jupyter-widgets/base",
          "model_name": "LayoutModel",
          "model_module_version": "1.2.0",
          "state": {
            "_model_module": "@jupyter-widgets/base",
            "_model_module_version": "1.2.0",
            "_model_name": "LayoutModel",
            "_view_count": null,
            "_view_module": "@jupyter-widgets/base",
            "_view_module_version": "1.2.0",
            "_view_name": "LayoutView",
            "align_content": null,
            "align_items": null,
            "align_self": null,
            "border": null,
            "bottom": null,
            "display": null,
            "flex": null,
            "flex_flow": null,
            "grid_area": null,
            "grid_auto_columns": null,
            "grid_auto_flow": null,
            "grid_auto_rows": null,
            "grid_column": null,
            "grid_gap": null,
            "grid_row": null,
            "grid_template_areas": null,
            "grid_template_columns": null,
            "grid_template_rows": null,
            "height": null,
            "justify_content": null,
            "justify_items": null,
            "left": null,
            "margin": null,
            "max_height": null,
            "max_width": null,
            "min_height": null,
            "min_width": null,
            "object_fit": null,
            "object_position": null,
            "order": null,
            "overflow": null,
            "overflow_x": null,
            "overflow_y": null,
            "padding": null,
            "right": null,
            "top": null,
            "visibility": null,
            "width": null
          }
        },
        "a6de3cad19964898bf9661bfe10d4b09": {
          "model_module": "@jupyter-widgets/controls",
          "model_name": "DescriptionStyleModel",
          "model_module_version": "1.5.0",
          "state": {
            "_model_module": "@jupyter-widgets/controls",
            "_model_module_version": "1.5.0",
            "_model_name": "DescriptionStyleModel",
            "_view_count": null,
            "_view_module": "@jupyter-widgets/base",
            "_view_module_version": "1.2.0",
            "_view_name": "StyleView",
            "description_width": ""
          }
        },
        "6a88707869f44f6aa742bcc68e32cdec": {
          "model_module": "@jupyter-widgets/controls",
          "model_name": "HBoxModel",
          "model_module_version": "1.5.0",
          "state": {
            "_dom_classes": [],
            "_model_module": "@jupyter-widgets/controls",
            "_model_module_version": "1.5.0",
            "_model_name": "HBoxModel",
            "_view_count": null,
            "_view_module": "@jupyter-widgets/controls",
            "_view_module_version": "1.5.0",
            "_view_name": "HBoxView",
            "box_style": "",
            "children": [
              "IPY_MODEL_b0d233858f5f4680a598493f9b6c6bc9",
              "IPY_MODEL_f502a41e7bb54663924c5a884ae57f7f",
              "IPY_MODEL_096544f5f3684038a3239936da21f8f5"
            ],
            "layout": "IPY_MODEL_3755511cf5ae48548d74f7cabcdc94dd"
          }
        },
        "b0d233858f5f4680a598493f9b6c6bc9": {
          "model_module": "@jupyter-widgets/controls",
          "model_name": "HTMLModel",
          "model_module_version": "1.5.0",
          "state": {
            "_dom_classes": [],
            "_model_module": "@jupyter-widgets/controls",
            "_model_module_version": "1.5.0",
            "_model_name": "HTMLModel",
            "_view_count": null,
            "_view_module": "@jupyter-widgets/controls",
            "_view_module_version": "1.5.0",
            "_view_name": "HTMLView",
            "description": "",
            "description_tooltip": null,
            "layout": "IPY_MODEL_60219e0999094feeb426343dbfac1323",
            "placeholder": "​",
            "style": "IPY_MODEL_e1f3625ea61d47caa1a2cc458804a26f",
            "value": "100%"
          }
        },
        "f502a41e7bb54663924c5a884ae57f7f": {
          "model_module": "@jupyter-widgets/controls",
          "model_name": "FloatProgressModel",
          "model_module_version": "1.5.0",
          "state": {
            "_dom_classes": [],
            "_model_module": "@jupyter-widgets/controls",
            "_model_module_version": "1.5.0",
            "_model_name": "FloatProgressModel",
            "_view_count": null,
            "_view_module": "@jupyter-widgets/controls",
            "_view_module_version": "1.5.0",
            "_view_name": "ProgressView",
            "bar_style": "success",
            "description": "",
            "description_tooltip": null,
            "layout": "IPY_MODEL_7a00e5d2ad614007be7c3798110fc25e",
            "max": 2,
            "min": 0,
            "orientation": "horizontal",
            "style": "IPY_MODEL_f571ead574f7409196750c9e6784c491",
            "value": 2
          }
        },
        "096544f5f3684038a3239936da21f8f5": {
          "model_module": "@jupyter-widgets/controls",
          "model_name": "HTMLModel",
          "model_module_version": "1.5.0",
          "state": {
            "_dom_classes": [],
            "_model_module": "@jupyter-widgets/controls",
            "_model_module_version": "1.5.0",
            "_model_name": "HTMLModel",
            "_view_count": null,
            "_view_module": "@jupyter-widgets/controls",
            "_view_module_version": "1.5.0",
            "_view_name": "HTMLView",
            "description": "",
            "description_tooltip": null,
            "layout": "IPY_MODEL_2120d53795354633863a386e9175e5db",
            "placeholder": "​",
            "style": "IPY_MODEL_826be1ccf5a14fc89a32b5247f9f89c1",
            "value": " 2/2 [00:10&lt;00:00,  5.16s/it]"
          }
        },
        "3755511cf5ae48548d74f7cabcdc94dd": {
          "model_module": "@jupyter-widgets/base",
          "model_name": "LayoutModel",
          "model_module_version": "1.2.0",
          "state": {
            "_model_module": "@jupyter-widgets/base",
            "_model_module_version": "1.2.0",
            "_model_name": "LayoutModel",
            "_view_count": null,
            "_view_module": "@jupyter-widgets/base",
            "_view_module_version": "1.2.0",
            "_view_name": "LayoutView",
            "align_content": null,
            "align_items": null,
            "align_self": null,
            "border": null,
            "bottom": null,
            "display": null,
            "flex": null,
            "flex_flow": null,
            "grid_area": null,
            "grid_auto_columns": null,
            "grid_auto_flow": null,
            "grid_auto_rows": null,
            "grid_column": null,
            "grid_gap": null,
            "grid_row": null,
            "grid_template_areas": null,
            "grid_template_columns": null,
            "grid_template_rows": null,
            "height": null,
            "justify_content": null,
            "justify_items": null,
            "left": null,
            "margin": null,
            "max_height": null,
            "max_width": null,
            "min_height": null,
            "min_width": null,
            "object_fit": null,
            "object_position": null,
            "order": null,
            "overflow": null,
            "overflow_x": null,
            "overflow_y": null,
            "padding": null,
            "right": null,
            "top": null,
            "visibility": null,
            "width": null
          }
        },
        "60219e0999094feeb426343dbfac1323": {
          "model_module": "@jupyter-widgets/base",
          "model_name": "LayoutModel",
          "model_module_version": "1.2.0",
          "state": {
            "_model_module": "@jupyter-widgets/base",
            "_model_module_version": "1.2.0",
            "_model_name": "LayoutModel",
            "_view_count": null,
            "_view_module": "@jupyter-widgets/base",
            "_view_module_version": "1.2.0",
            "_view_name": "LayoutView",
            "align_content": null,
            "align_items": null,
            "align_self": null,
            "border": null,
            "bottom": null,
            "display": null,
            "flex": null,
            "flex_flow": null,
            "grid_area": null,
            "grid_auto_columns": null,
            "grid_auto_flow": null,
            "grid_auto_rows": null,
            "grid_column": null,
            "grid_gap": null,
            "grid_row": null,
            "grid_template_areas": null,
            "grid_template_columns": null,
            "grid_template_rows": null,
            "height": null,
            "justify_content": null,
            "justify_items": null,
            "left": null,
            "margin": null,
            "max_height": null,
            "max_width": null,
            "min_height": null,
            "min_width": null,
            "object_fit": null,
            "object_position": null,
            "order": null,
            "overflow": null,
            "overflow_x": null,
            "overflow_y": null,
            "padding": null,
            "right": null,
            "top": null,
            "visibility": null,
            "width": null
          }
        },
        "e1f3625ea61d47caa1a2cc458804a26f": {
          "model_module": "@jupyter-widgets/controls",
          "model_name": "DescriptionStyleModel",
          "model_module_version": "1.5.0",
          "state": {
            "_model_module": "@jupyter-widgets/controls",
            "_model_module_version": "1.5.0",
            "_model_name": "DescriptionStyleModel",
            "_view_count": null,
            "_view_module": "@jupyter-widgets/base",
            "_view_module_version": "1.2.0",
            "_view_name": "StyleView",
            "description_width": ""
          }
        },
        "7a00e5d2ad614007be7c3798110fc25e": {
          "model_module": "@jupyter-widgets/base",
          "model_name": "LayoutModel",
          "model_module_version": "1.2.0",
          "state": {
            "_model_module": "@jupyter-widgets/base",
            "_model_module_version": "1.2.0",
            "_model_name": "LayoutModel",
            "_view_count": null,
            "_view_module": "@jupyter-widgets/base",
            "_view_module_version": "1.2.0",
            "_view_name": "LayoutView",
            "align_content": null,
            "align_items": null,
            "align_self": null,
            "border": null,
            "bottom": null,
            "display": null,
            "flex": null,
            "flex_flow": null,
            "grid_area": null,
            "grid_auto_columns": null,
            "grid_auto_flow": null,
            "grid_auto_rows": null,
            "grid_column": null,
            "grid_gap": null,
            "grid_row": null,
            "grid_template_areas": null,
            "grid_template_columns": null,
            "grid_template_rows": null,
            "height": null,
            "justify_content": null,
            "justify_items": null,
            "left": null,
            "margin": null,
            "max_height": null,
            "max_width": null,
            "min_height": null,
            "min_width": null,
            "object_fit": null,
            "object_position": null,
            "order": null,
            "overflow": null,
            "overflow_x": null,
            "overflow_y": null,
            "padding": null,
            "right": null,
            "top": null,
            "visibility": null,
            "width": null
          }
        },
        "f571ead574f7409196750c9e6784c491": {
          "model_module": "@jupyter-widgets/controls",
          "model_name": "ProgressStyleModel",
          "model_module_version": "1.5.0",
          "state": {
            "_model_module": "@jupyter-widgets/controls",
            "_model_module_version": "1.5.0",
            "_model_name": "ProgressStyleModel",
            "_view_count": null,
            "_view_module": "@jupyter-widgets/base",
            "_view_module_version": "1.2.0",
            "_view_name": "StyleView",
            "bar_color": null,
            "description_width": ""
          }
        },
        "2120d53795354633863a386e9175e5db": {
          "model_module": "@jupyter-widgets/base",
          "model_name": "LayoutModel",
          "model_module_version": "1.2.0",
          "state": {
            "_model_module": "@jupyter-widgets/base",
            "_model_module_version": "1.2.0",
            "_model_name": "LayoutModel",
            "_view_count": null,
            "_view_module": "@jupyter-widgets/base",
            "_view_module_version": "1.2.0",
            "_view_name": "LayoutView",
            "align_content": null,
            "align_items": null,
            "align_self": null,
            "border": null,
            "bottom": null,
            "display": null,
            "flex": null,
            "flex_flow": null,
            "grid_area": null,
            "grid_auto_columns": null,
            "grid_auto_flow": null,
            "grid_auto_rows": null,
            "grid_column": null,
            "grid_gap": null,
            "grid_row": null,
            "grid_template_areas": null,
            "grid_template_columns": null,
            "grid_template_rows": null,
            "height": null,
            "justify_content": null,
            "justify_items": null,
            "left": null,
            "margin": null,
            "max_height": null,
            "max_width": null,
            "min_height": null,
            "min_width": null,
            "object_fit": null,
            "object_position": null,
            "order": null,
            "overflow": null,
            "overflow_x": null,
            "overflow_y": null,
            "padding": null,
            "right": null,
            "top": null,
            "visibility": null,
            "width": null
          }
        },
        "826be1ccf5a14fc89a32b5247f9f89c1": {
          "model_module": "@jupyter-widgets/controls",
          "model_name": "DescriptionStyleModel",
          "model_module_version": "1.5.0",
          "state": {
            "_model_module": "@jupyter-widgets/controls",
            "_model_module_version": "1.5.0",
            "_model_name": "DescriptionStyleModel",
            "_view_count": null,
            "_view_module": "@jupyter-widgets/base",
            "_view_module_version": "1.2.0",
            "_view_name": "StyleView",
            "description_width": ""
          }
        },
        "3c096bf760dc4d9eb473000ada0c113f": {
          "model_module": "@jupyter-widgets/controls",
          "model_name": "HBoxModel",
          "model_module_version": "1.5.0",
          "state": {
            "_dom_classes": [],
            "_model_module": "@jupyter-widgets/controls",
            "_model_module_version": "1.5.0",
            "_model_name": "HBoxModel",
            "_view_count": null,
            "_view_module": "@jupyter-widgets/controls",
            "_view_module_version": "1.5.0",
            "_view_name": "HBoxView",
            "box_style": "",
            "children": [
              "IPY_MODEL_00f46f3e2b9f46e7a9e951466a625bf0",
              "IPY_MODEL_df4c2ac1eaeb47d9b86d423b627586ad",
              "IPY_MODEL_0d01f8eb8ec2428cbd4d8c746359f825"
            ],
            "layout": "IPY_MODEL_efe4fe37304d4a62b17ee66e9b7a51de"
          }
        },
        "00f46f3e2b9f46e7a9e951466a625bf0": {
          "model_module": "@jupyter-widgets/controls",
          "model_name": "HTMLModel",
          "model_module_version": "1.5.0",
          "state": {
            "_dom_classes": [],
            "_model_module": "@jupyter-widgets/controls",
            "_model_module_version": "1.5.0",
            "_model_name": "HTMLModel",
            "_view_count": null,
            "_view_module": "@jupyter-widgets/controls",
            "_view_module_version": "1.5.0",
            "_view_name": "HTMLView",
            "description": "",
            "description_tooltip": null,
            "layout": "IPY_MODEL_2bdf864777ca45f1aa10870e398d763c",
            "placeholder": "​",
            "style": "IPY_MODEL_e30574e2dd5c441bbe30fa228cb94bf3",
            "value": "100%"
          }
        },
        "df4c2ac1eaeb47d9b86d423b627586ad": {
          "model_module": "@jupyter-widgets/controls",
          "model_name": "FloatProgressModel",
          "model_module_version": "1.5.0",
          "state": {
            "_dom_classes": [],
            "_model_module": "@jupyter-widgets/controls",
            "_model_module_version": "1.5.0",
            "_model_name": "FloatProgressModel",
            "_view_count": null,
            "_view_module": "@jupyter-widgets/controls",
            "_view_module_version": "1.5.0",
            "_view_name": "ProgressView",
            "bar_style": "success",
            "description": "",
            "description_tooltip": null,
            "layout": "IPY_MODEL_89c2e64cfad74b8cbf8f0b759c50de64",
            "max": 2,
            "min": 0,
            "orientation": "horizontal",
            "style": "IPY_MODEL_aa787db67c3e463c8e93a35dbd5e8e5c",
            "value": 2
          }
        },
        "0d01f8eb8ec2428cbd4d8c746359f825": {
          "model_module": "@jupyter-widgets/controls",
          "model_name": "HTMLModel",
          "model_module_version": "1.5.0",
          "state": {
            "_dom_classes": [],
            "_model_module": "@jupyter-widgets/controls",
            "_model_module_version": "1.5.0",
            "_model_name": "HTMLModel",
            "_view_count": null,
            "_view_module": "@jupyter-widgets/controls",
            "_view_module_version": "1.5.0",
            "_view_name": "HTMLView",
            "description": "",
            "description_tooltip": null,
            "layout": "IPY_MODEL_5e0fad9a65064a52ba255bfecae62d27",
            "placeholder": "​",
            "style": "IPY_MODEL_f0d75656766f43b381b8c053a90f9846",
            "value": " 2/2 [00:10&lt;00:00,  5.11s/it]"
          }
        },
        "efe4fe37304d4a62b17ee66e9b7a51de": {
          "model_module": "@jupyter-widgets/base",
          "model_name": "LayoutModel",
          "model_module_version": "1.2.0",
          "state": {
            "_model_module": "@jupyter-widgets/base",
            "_model_module_version": "1.2.0",
            "_model_name": "LayoutModel",
            "_view_count": null,
            "_view_module": "@jupyter-widgets/base",
            "_view_module_version": "1.2.0",
            "_view_name": "LayoutView",
            "align_content": null,
            "align_items": null,
            "align_self": null,
            "border": null,
            "bottom": null,
            "display": null,
            "flex": null,
            "flex_flow": null,
            "grid_area": null,
            "grid_auto_columns": null,
            "grid_auto_flow": null,
            "grid_auto_rows": null,
            "grid_column": null,
            "grid_gap": null,
            "grid_row": null,
            "grid_template_areas": null,
            "grid_template_columns": null,
            "grid_template_rows": null,
            "height": null,
            "justify_content": null,
            "justify_items": null,
            "left": null,
            "margin": null,
            "max_height": null,
            "max_width": null,
            "min_height": null,
            "min_width": null,
            "object_fit": null,
            "object_position": null,
            "order": null,
            "overflow": null,
            "overflow_x": null,
            "overflow_y": null,
            "padding": null,
            "right": null,
            "top": null,
            "visibility": null,
            "width": null
          }
        },
        "2bdf864777ca45f1aa10870e398d763c": {
          "model_module": "@jupyter-widgets/base",
          "model_name": "LayoutModel",
          "model_module_version": "1.2.0",
          "state": {
            "_model_module": "@jupyter-widgets/base",
            "_model_module_version": "1.2.0",
            "_model_name": "LayoutModel",
            "_view_count": null,
            "_view_module": "@jupyter-widgets/base",
            "_view_module_version": "1.2.0",
            "_view_name": "LayoutView",
            "align_content": null,
            "align_items": null,
            "align_self": null,
            "border": null,
            "bottom": null,
            "display": null,
            "flex": null,
            "flex_flow": null,
            "grid_area": null,
            "grid_auto_columns": null,
            "grid_auto_flow": null,
            "grid_auto_rows": null,
            "grid_column": null,
            "grid_gap": null,
            "grid_row": null,
            "grid_template_areas": null,
            "grid_template_columns": null,
            "grid_template_rows": null,
            "height": null,
            "justify_content": null,
            "justify_items": null,
            "left": null,
            "margin": null,
            "max_height": null,
            "max_width": null,
            "min_height": null,
            "min_width": null,
            "object_fit": null,
            "object_position": null,
            "order": null,
            "overflow": null,
            "overflow_x": null,
            "overflow_y": null,
            "padding": null,
            "right": null,
            "top": null,
            "visibility": null,
            "width": null
          }
        },
        "e30574e2dd5c441bbe30fa228cb94bf3": {
          "model_module": "@jupyter-widgets/controls",
          "model_name": "DescriptionStyleModel",
          "model_module_version": "1.5.0",
          "state": {
            "_model_module": "@jupyter-widgets/controls",
            "_model_module_version": "1.5.0",
            "_model_name": "DescriptionStyleModel",
            "_view_count": null,
            "_view_module": "@jupyter-widgets/base",
            "_view_module_version": "1.2.0",
            "_view_name": "StyleView",
            "description_width": ""
          }
        },
        "89c2e64cfad74b8cbf8f0b759c50de64": {
          "model_module": "@jupyter-widgets/base",
          "model_name": "LayoutModel",
          "model_module_version": "1.2.0",
          "state": {
            "_model_module": "@jupyter-widgets/base",
            "_model_module_version": "1.2.0",
            "_model_name": "LayoutModel",
            "_view_count": null,
            "_view_module": "@jupyter-widgets/base",
            "_view_module_version": "1.2.0",
            "_view_name": "LayoutView",
            "align_content": null,
            "align_items": null,
            "align_self": null,
            "border": null,
            "bottom": null,
            "display": null,
            "flex": null,
            "flex_flow": null,
            "grid_area": null,
            "grid_auto_columns": null,
            "grid_auto_flow": null,
            "grid_auto_rows": null,
            "grid_column": null,
            "grid_gap": null,
            "grid_row": null,
            "grid_template_areas": null,
            "grid_template_columns": null,
            "grid_template_rows": null,
            "height": null,
            "justify_content": null,
            "justify_items": null,
            "left": null,
            "margin": null,
            "max_height": null,
            "max_width": null,
            "min_height": null,
            "min_width": null,
            "object_fit": null,
            "object_position": null,
            "order": null,
            "overflow": null,
            "overflow_x": null,
            "overflow_y": null,
            "padding": null,
            "right": null,
            "top": null,
            "visibility": null,
            "width": null
          }
        },
        "aa787db67c3e463c8e93a35dbd5e8e5c": {
          "model_module": "@jupyter-widgets/controls",
          "model_name": "ProgressStyleModel",
          "model_module_version": "1.5.0",
          "state": {
            "_model_module": "@jupyter-widgets/controls",
            "_model_module_version": "1.5.0",
            "_model_name": "ProgressStyleModel",
            "_view_count": null,
            "_view_module": "@jupyter-widgets/base",
            "_view_module_version": "1.2.0",
            "_view_name": "StyleView",
            "bar_color": null,
            "description_width": ""
          }
        },
        "5e0fad9a65064a52ba255bfecae62d27": {
          "model_module": "@jupyter-widgets/base",
          "model_name": "LayoutModel",
          "model_module_version": "1.2.0",
          "state": {
            "_model_module": "@jupyter-widgets/base",
            "_model_module_version": "1.2.0",
            "_model_name": "LayoutModel",
            "_view_count": null,
            "_view_module": "@jupyter-widgets/base",
            "_view_module_version": "1.2.0",
            "_view_name": "LayoutView",
            "align_content": null,
            "align_items": null,
            "align_self": null,
            "border": null,
            "bottom": null,
            "display": null,
            "flex": null,
            "flex_flow": null,
            "grid_area": null,
            "grid_auto_columns": null,
            "grid_auto_flow": null,
            "grid_auto_rows": null,
            "grid_column": null,
            "grid_gap": null,
            "grid_row": null,
            "grid_template_areas": null,
            "grid_template_columns": null,
            "grid_template_rows": null,
            "height": null,
            "justify_content": null,
            "justify_items": null,
            "left": null,
            "margin": null,
            "max_height": null,
            "max_width": null,
            "min_height": null,
            "min_width": null,
            "object_fit": null,
            "object_position": null,
            "order": null,
            "overflow": null,
            "overflow_x": null,
            "overflow_y": null,
            "padding": null,
            "right": null,
            "top": null,
            "visibility": null,
            "width": null
          }
        },
        "f0d75656766f43b381b8c053a90f9846": {
          "model_module": "@jupyter-widgets/controls",
          "model_name": "DescriptionStyleModel",
          "model_module_version": "1.5.0",
          "state": {
            "_model_module": "@jupyter-widgets/controls",
            "_model_module_version": "1.5.0",
            "_model_name": "DescriptionStyleModel",
            "_view_count": null,
            "_view_module": "@jupyter-widgets/base",
            "_view_module_version": "1.2.0",
            "_view_name": "StyleView",
            "description_width": ""
          }
        },
        "2ae8e716ae99437f82d11125d104be46": {
          "model_module": "@jupyter-widgets/controls",
          "model_name": "HBoxModel",
          "model_module_version": "1.5.0",
          "state": {
            "_dom_classes": [],
            "_model_module": "@jupyter-widgets/controls",
            "_model_module_version": "1.5.0",
            "_model_name": "HBoxModel",
            "_view_count": null,
            "_view_module": "@jupyter-widgets/controls",
            "_view_module_version": "1.5.0",
            "_view_name": "HBoxView",
            "box_style": "",
            "children": [
              "IPY_MODEL_8379d1a7f4fd422fad23fff531a97f8d",
              "IPY_MODEL_652ec5527d43467c80ff5aa63097932b",
              "IPY_MODEL_a2f7a9abd96b4ab2b7813d4b9e081fa3"
            ],
            "layout": "IPY_MODEL_e4809c17ab47402fa9efdf3d4b720879"
          }
        },
        "8379d1a7f4fd422fad23fff531a97f8d": {
          "model_module": "@jupyter-widgets/controls",
          "model_name": "HTMLModel",
          "model_module_version": "1.5.0",
          "state": {
            "_dom_classes": [],
            "_model_module": "@jupyter-widgets/controls",
            "_model_module_version": "1.5.0",
            "_model_name": "HTMLModel",
            "_view_count": null,
            "_view_module": "@jupyter-widgets/controls",
            "_view_module_version": "1.5.0",
            "_view_name": "HTMLView",
            "description": "",
            "description_tooltip": null,
            "layout": "IPY_MODEL_a41d28f8b1644523af530247a7497e2e",
            "placeholder": "​",
            "style": "IPY_MODEL_2eb6a71e97b544b8be36575779cb6f36",
            "value": "100%"
          }
        },
        "652ec5527d43467c80ff5aa63097932b": {
          "model_module": "@jupyter-widgets/controls",
          "model_name": "FloatProgressModel",
          "model_module_version": "1.5.0",
          "state": {
            "_dom_classes": [],
            "_model_module": "@jupyter-widgets/controls",
            "_model_module_version": "1.5.0",
            "_model_name": "FloatProgressModel",
            "_view_count": null,
            "_view_module": "@jupyter-widgets/controls",
            "_view_module_version": "1.5.0",
            "_view_name": "ProgressView",
            "bar_style": "success",
            "description": "",
            "description_tooltip": null,
            "layout": "IPY_MODEL_b52166397e644bbf98da1fd4d1ef42bf",
            "max": 24,
            "min": 0,
            "orientation": "horizontal",
            "style": "IPY_MODEL_58b962c3616f492db7fc49c59cdf62a4",
            "value": 24
          }
        },
        "a2f7a9abd96b4ab2b7813d4b9e081fa3": {
          "model_module": "@jupyter-widgets/controls",
          "model_name": "HTMLModel",
          "model_module_version": "1.5.0",
          "state": {
            "_dom_classes": [],
            "_model_module": "@jupyter-widgets/controls",
            "_model_module_version": "1.5.0",
            "_model_name": "HTMLModel",
            "_view_count": null,
            "_view_module": "@jupyter-widgets/controls",
            "_view_module_version": "1.5.0",
            "_view_name": "HTMLView",
            "description": "",
            "description_tooltip": null,
            "layout": "IPY_MODEL_d1fb9372187f42f19b407568647c3829",
            "placeholder": "​",
            "style": "IPY_MODEL_440ff68dbd5243b7b6c73240645edc1d",
            "value": " 24/24 [00:00&lt;00:00, 259.69it/s]"
          }
        },
        "e4809c17ab47402fa9efdf3d4b720879": {
          "model_module": "@jupyter-widgets/base",
          "model_name": "LayoutModel",
          "model_module_version": "1.2.0",
          "state": {
            "_model_module": "@jupyter-widgets/base",
            "_model_module_version": "1.2.0",
            "_model_name": "LayoutModel",
            "_view_count": null,
            "_view_module": "@jupyter-widgets/base",
            "_view_module_version": "1.2.0",
            "_view_name": "LayoutView",
            "align_content": null,
            "align_items": null,
            "align_self": null,
            "border": null,
            "bottom": null,
            "display": null,
            "flex": null,
            "flex_flow": null,
            "grid_area": null,
            "grid_auto_columns": null,
            "grid_auto_flow": null,
            "grid_auto_rows": null,
            "grid_column": null,
            "grid_gap": null,
            "grid_row": null,
            "grid_template_areas": null,
            "grid_template_columns": null,
            "grid_template_rows": null,
            "height": null,
            "justify_content": null,
            "justify_items": null,
            "left": null,
            "margin": null,
            "max_height": null,
            "max_width": null,
            "min_height": null,
            "min_width": null,
            "object_fit": null,
            "object_position": null,
            "order": null,
            "overflow": null,
            "overflow_x": null,
            "overflow_y": null,
            "padding": null,
            "right": null,
            "top": null,
            "visibility": null,
            "width": null
          }
        },
        "a41d28f8b1644523af530247a7497e2e": {
          "model_module": "@jupyter-widgets/base",
          "model_name": "LayoutModel",
          "model_module_version": "1.2.0",
          "state": {
            "_model_module": "@jupyter-widgets/base",
            "_model_module_version": "1.2.0",
            "_model_name": "LayoutModel",
            "_view_count": null,
            "_view_module": "@jupyter-widgets/base",
            "_view_module_version": "1.2.0",
            "_view_name": "LayoutView",
            "align_content": null,
            "align_items": null,
            "align_self": null,
            "border": null,
            "bottom": null,
            "display": null,
            "flex": null,
            "flex_flow": null,
            "grid_area": null,
            "grid_auto_columns": null,
            "grid_auto_flow": null,
            "grid_auto_rows": null,
            "grid_column": null,
            "grid_gap": null,
            "grid_row": null,
            "grid_template_areas": null,
            "grid_template_columns": null,
            "grid_template_rows": null,
            "height": null,
            "justify_content": null,
            "justify_items": null,
            "left": null,
            "margin": null,
            "max_height": null,
            "max_width": null,
            "min_height": null,
            "min_width": null,
            "object_fit": null,
            "object_position": null,
            "order": null,
            "overflow": null,
            "overflow_x": null,
            "overflow_y": null,
            "padding": null,
            "right": null,
            "top": null,
            "visibility": null,
            "width": null
          }
        },
        "2eb6a71e97b544b8be36575779cb6f36": {
          "model_module": "@jupyter-widgets/controls",
          "model_name": "DescriptionStyleModel",
          "model_module_version": "1.5.0",
          "state": {
            "_model_module": "@jupyter-widgets/controls",
            "_model_module_version": "1.5.0",
            "_model_name": "DescriptionStyleModel",
            "_view_count": null,
            "_view_module": "@jupyter-widgets/base",
            "_view_module_version": "1.2.0",
            "_view_name": "StyleView",
            "description_width": ""
          }
        },
        "b52166397e644bbf98da1fd4d1ef42bf": {
          "model_module": "@jupyter-widgets/base",
          "model_name": "LayoutModel",
          "model_module_version": "1.2.0",
          "state": {
            "_model_module": "@jupyter-widgets/base",
            "_model_module_version": "1.2.0",
            "_model_name": "LayoutModel",
            "_view_count": null,
            "_view_module": "@jupyter-widgets/base",
            "_view_module_version": "1.2.0",
            "_view_name": "LayoutView",
            "align_content": null,
            "align_items": null,
            "align_self": null,
            "border": null,
            "bottom": null,
            "display": null,
            "flex": null,
            "flex_flow": null,
            "grid_area": null,
            "grid_auto_columns": null,
            "grid_auto_flow": null,
            "grid_auto_rows": null,
            "grid_column": null,
            "grid_gap": null,
            "grid_row": null,
            "grid_template_areas": null,
            "grid_template_columns": null,
            "grid_template_rows": null,
            "height": null,
            "justify_content": null,
            "justify_items": null,
            "left": null,
            "margin": null,
            "max_height": null,
            "max_width": null,
            "min_height": null,
            "min_width": null,
            "object_fit": null,
            "object_position": null,
            "order": null,
            "overflow": null,
            "overflow_x": null,
            "overflow_y": null,
            "padding": null,
            "right": null,
            "top": null,
            "visibility": null,
            "width": null
          }
        },
        "58b962c3616f492db7fc49c59cdf62a4": {
          "model_module": "@jupyter-widgets/controls",
          "model_name": "ProgressStyleModel",
          "model_module_version": "1.5.0",
          "state": {
            "_model_module": "@jupyter-widgets/controls",
            "_model_module_version": "1.5.0",
            "_model_name": "ProgressStyleModel",
            "_view_count": null,
            "_view_module": "@jupyter-widgets/base",
            "_view_module_version": "1.2.0",
            "_view_name": "StyleView",
            "bar_color": null,
            "description_width": ""
          }
        },
        "d1fb9372187f42f19b407568647c3829": {
          "model_module": "@jupyter-widgets/base",
          "model_name": "LayoutModel",
          "model_module_version": "1.2.0",
          "state": {
            "_model_module": "@jupyter-widgets/base",
            "_model_module_version": "1.2.0",
            "_model_name": "LayoutModel",
            "_view_count": null,
            "_view_module": "@jupyter-widgets/base",
            "_view_module_version": "1.2.0",
            "_view_name": "LayoutView",
            "align_content": null,
            "align_items": null,
            "align_self": null,
            "border": null,
            "bottom": null,
            "display": null,
            "flex": null,
            "flex_flow": null,
            "grid_area": null,
            "grid_auto_columns": null,
            "grid_auto_flow": null,
            "grid_auto_rows": null,
            "grid_column": null,
            "grid_gap": null,
            "grid_row": null,
            "grid_template_areas": null,
            "grid_template_columns": null,
            "grid_template_rows": null,
            "height": null,
            "justify_content": null,
            "justify_items": null,
            "left": null,
            "margin": null,
            "max_height": null,
            "max_width": null,
            "min_height": null,
            "min_width": null,
            "object_fit": null,
            "object_position": null,
            "order": null,
            "overflow": null,
            "overflow_x": null,
            "overflow_y": null,
            "padding": null,
            "right": null,
            "top": null,
            "visibility": null,
            "width": null
          }
        },
        "440ff68dbd5243b7b6c73240645edc1d": {
          "model_module": "@jupyter-widgets/controls",
          "model_name": "DescriptionStyleModel",
          "model_module_version": "1.5.0",
          "state": {
            "_model_module": "@jupyter-widgets/controls",
            "_model_module_version": "1.5.0",
            "_model_name": "DescriptionStyleModel",
            "_view_count": null,
            "_view_module": "@jupyter-widgets/base",
            "_view_module_version": "1.2.0",
            "_view_name": "StyleView",
            "description_width": ""
          }
        },
        "931fd6ca80f145c8b744e5f42fafcab1": {
          "model_module": "@jupyter-widgets/controls",
          "model_name": "VBoxModel",
          "model_module_version": "1.5.0",
          "state": {
            "_dom_classes": [],
            "_model_module": "@jupyter-widgets/controls",
            "_model_module_version": "1.5.0",
            "_model_name": "VBoxModel",
            "_view_count": null,
            "_view_module": "@jupyter-widgets/controls",
            "_view_module_version": "1.5.0",
            "_view_name": "VBoxView",
            "box_style": "",
            "children": [
              "IPY_MODEL_fb8253bf30fd4d5b84f78e6dad0d88cd",
              "IPY_MODEL_2ff22228ac4947609450dd56904280d0"
            ],
            "layout": "IPY_MODEL_3aec493b1afc4c56bde34ab6ca84c930"
          }
        },
        "fb8253bf30fd4d5b84f78e6dad0d88cd": {
          "model_module": "@jupyter-widgets/controls",
          "model_name": "LabelModel",
          "model_module_version": "1.5.0",
          "state": {
            "_dom_classes": [],
            "_model_module": "@jupyter-widgets/controls",
            "_model_module_version": "1.5.0",
            "_model_name": "LabelModel",
            "_view_count": null,
            "_view_module": "@jupyter-widgets/controls",
            "_view_module_version": "1.5.0",
            "_view_name": "LabelView",
            "description": "",
            "description_tooltip": null,
            "layout": "IPY_MODEL_055484e3470b4873b863ce55267e4a6f",
            "placeholder": "​",
            "style": "IPY_MODEL_96c1c407102446a6bcb540672c03255e",
            "value": "1173.570 MB of 1173.570 MB uploaded (0.313 MB deduped)\r"
          }
        },
        "2ff22228ac4947609450dd56904280d0": {
          "model_module": "@jupyter-widgets/controls",
          "model_name": "FloatProgressModel",
          "model_module_version": "1.5.0",
          "state": {
            "_dom_classes": [],
            "_model_module": "@jupyter-widgets/controls",
            "_model_module_version": "1.5.0",
            "_model_name": "FloatProgressModel",
            "_view_count": null,
            "_view_module": "@jupyter-widgets/controls",
            "_view_module_version": "1.5.0",
            "_view_name": "ProgressView",
            "bar_style": "",
            "description": "",
            "description_tooltip": null,
            "layout": "IPY_MODEL_bd6c4b11b2bc43f099e4bf831f9d7176",
            "max": 1,
            "min": 0,
            "orientation": "horizontal",
            "style": "IPY_MODEL_3535f10cef7a44e7a15a98ef2805c835",
            "value": 1
          }
        },
        "3aec493b1afc4c56bde34ab6ca84c930": {
          "model_module": "@jupyter-widgets/base",
          "model_name": "LayoutModel",
          "model_module_version": "1.2.0",
          "state": {
            "_model_module": "@jupyter-widgets/base",
            "_model_module_version": "1.2.0",
            "_model_name": "LayoutModel",
            "_view_count": null,
            "_view_module": "@jupyter-widgets/base",
            "_view_module_version": "1.2.0",
            "_view_name": "LayoutView",
            "align_content": null,
            "align_items": null,
            "align_self": null,
            "border": null,
            "bottom": null,
            "display": null,
            "flex": null,
            "flex_flow": null,
            "grid_area": null,
            "grid_auto_columns": null,
            "grid_auto_flow": null,
            "grid_auto_rows": null,
            "grid_column": null,
            "grid_gap": null,
            "grid_row": null,
            "grid_template_areas": null,
            "grid_template_columns": null,
            "grid_template_rows": null,
            "height": null,
            "justify_content": null,
            "justify_items": null,
            "left": null,
            "margin": null,
            "max_height": null,
            "max_width": null,
            "min_height": null,
            "min_width": null,
            "object_fit": null,
            "object_position": null,
            "order": null,
            "overflow": null,
            "overflow_x": null,
            "overflow_y": null,
            "padding": null,
            "right": null,
            "top": null,
            "visibility": null,
            "width": null
          }
        },
        "055484e3470b4873b863ce55267e4a6f": {
          "model_module": "@jupyter-widgets/base",
          "model_name": "LayoutModel",
          "model_module_version": "1.2.0",
          "state": {
            "_model_module": "@jupyter-widgets/base",
            "_model_module_version": "1.2.0",
            "_model_name": "LayoutModel",
            "_view_count": null,
            "_view_module": "@jupyter-widgets/base",
            "_view_module_version": "1.2.0",
            "_view_name": "LayoutView",
            "align_content": null,
            "align_items": null,
            "align_self": null,
            "border": null,
            "bottom": null,
            "display": null,
            "flex": null,
            "flex_flow": null,
            "grid_area": null,
            "grid_auto_columns": null,
            "grid_auto_flow": null,
            "grid_auto_rows": null,
            "grid_column": null,
            "grid_gap": null,
            "grid_row": null,
            "grid_template_areas": null,
            "grid_template_columns": null,
            "grid_template_rows": null,
            "height": null,
            "justify_content": null,
            "justify_items": null,
            "left": null,
            "margin": null,
            "max_height": null,
            "max_width": null,
            "min_height": null,
            "min_width": null,
            "object_fit": null,
            "object_position": null,
            "order": null,
            "overflow": null,
            "overflow_x": null,
            "overflow_y": null,
            "padding": null,
            "right": null,
            "top": null,
            "visibility": null,
            "width": null
          }
        },
        "96c1c407102446a6bcb540672c03255e": {
          "model_module": "@jupyter-widgets/controls",
          "model_name": "DescriptionStyleModel",
          "model_module_version": "1.5.0",
          "state": {
            "_model_module": "@jupyter-widgets/controls",
            "_model_module_version": "1.5.0",
            "_model_name": "DescriptionStyleModel",
            "_view_count": null,
            "_view_module": "@jupyter-widgets/base",
            "_view_module_version": "1.2.0",
            "_view_name": "StyleView",
            "description_width": ""
          }
        },
        "bd6c4b11b2bc43f099e4bf831f9d7176": {
          "model_module": "@jupyter-widgets/base",
          "model_name": "LayoutModel",
          "model_module_version": "1.2.0",
          "state": {
            "_model_module": "@jupyter-widgets/base",
            "_model_module_version": "1.2.0",
            "_model_name": "LayoutModel",
            "_view_count": null,
            "_view_module": "@jupyter-widgets/base",
            "_view_module_version": "1.2.0",
            "_view_name": "LayoutView",
            "align_content": null,
            "align_items": null,
            "align_self": null,
            "border": null,
            "bottom": null,
            "display": null,
            "flex": null,
            "flex_flow": null,
            "grid_area": null,
            "grid_auto_columns": null,
            "grid_auto_flow": null,
            "grid_auto_rows": null,
            "grid_column": null,
            "grid_gap": null,
            "grid_row": null,
            "grid_template_areas": null,
            "grid_template_columns": null,
            "grid_template_rows": null,
            "height": null,
            "justify_content": null,
            "justify_items": null,
            "left": null,
            "margin": null,
            "max_height": null,
            "max_width": null,
            "min_height": null,
            "min_width": null,
            "object_fit": null,
            "object_position": null,
            "order": null,
            "overflow": null,
            "overflow_x": null,
            "overflow_y": null,
            "padding": null,
            "right": null,
            "top": null,
            "visibility": null,
            "width": null
          }
        },
        "3535f10cef7a44e7a15a98ef2805c835": {
          "model_module": "@jupyter-widgets/controls",
          "model_name": "ProgressStyleModel",
          "model_module_version": "1.5.0",
          "state": {
            "_model_module": "@jupyter-widgets/controls",
            "_model_module_version": "1.5.0",
            "_model_name": "ProgressStyleModel",
            "_view_count": null,
            "_view_module": "@jupyter-widgets/base",
            "_view_module_version": "1.2.0",
            "_view_name": "StyleView",
            "bar_color": null,
            "description_width": ""
          }
        }
      }
    }
  },
  "cells": [
    {
      "cell_type": "markdown",
      "metadata": {
        "id": "_H9ATKK6_ucM"
      },
      "source": [
        "Image Splitting"
      ]
    },
    {
      "cell_type": "code",
      "metadata": {
        "colab": {
          "base_uri": "https://localhost:8080/"
        },
        "id": "PaEI9GdfOZEP",
        "outputId": "cf22c920-0cdf-47ff-88b2-b41dd9745dc5"
      },
      "source": [
        "!pip install imutils"
      ],
      "execution_count": null,
      "outputs": [
        {
          "output_type": "stream",
          "name": "stdout",
          "text": [
            "Requirement already satisfied: imutils in /usr/local/lib/python3.7/dist-packages (0.5.4)\n"
          ]
        }
      ]
    },
    {
      "cell_type": "code",
      "metadata": {
        "id": "0xPWwj3F-dMG",
        "colab": {
          "base_uri": "https://localhost:8080/"
        },
        "outputId": "9fb24f48-5d2f-4f9a-9120-cb3f5c24f8d3"
      },
      "source": [
        "from google.colab import drive\n",
        "drive.mount('/content/gdrive')"
      ],
      "execution_count": null,
      "outputs": [
        {
          "output_type": "stream",
          "name": "stdout",
          "text": [
            "Mounted at /content/gdrive\n"
          ]
        }
      ]
    },
    {
      "cell_type": "code",
      "metadata": {
        "id": "BU0pglqn-oXb"
      },
      "source": [
        "import numpy as np\n",
        "import os\n",
        "import glob\n",
        "import random\n",
        "import cv2\n",
        "\n",
        "from PIL import Image, ImageOps\n",
        "from tqdm.notebook import tqdm\n",
        "from sklearn.model_selection import train_test_split\n",
        "\n",
        "from imutils.perspective import four_point_transform\n",
        "from imutils import grab_contours"
      ],
      "execution_count": null,
      "outputs": []
    },
    {
      "cell_type": "code",
      "metadata": {
        "id": "Gv0s87lw-p52"
      },
      "source": [
        "RNG_SEED = 0\n",
        "np.random.seed(RNG_SEED)\n",
        "random.seed(RNG_SEED)"
      ],
      "execution_count": null,
      "outputs": []
    },
    {
      "cell_type": "code",
      "metadata": {
        "id": "rkPHisvDYBVh"
      },
      "source": [
        "CLAHE_GRID_SIZE = 16\n",
        "CLAHE_CLIP_LIMIT = 16.0"
      ],
      "execution_count": null,
      "outputs": []
    },
    {
      "cell_type": "code",
      "metadata": {
        "id": "jhkRE54k-rBK"
      },
      "source": [
        "def make_dir(output_path):\n",
        "  if not os.path.isdir(output_path):\n",
        "    os.mkdir(output_path)"
      ],
      "execution_count": null,
      "outputs": []
    },
    {
      "cell_type": "code",
      "metadata": {
        "id": "lrwlBubp-sWp"
      },
      "source": [
        "class ImageSplitter:\n",
        "  def __init__(self, input_dir):\n",
        "    self.img_list = glob.glob(f'{input_dir}/image/*')\n",
        "    self.img_list.sort()\n",
        "    self.msk_list = glob.glob(f'{input_dir}/mask/*')\n",
        "    self.msk_list.sort()\n",
        "\n",
        "  def transform(self, tile_shape, stride_shape, output_path, val_size=.15, test_size=.10):\n",
        "    make_dir(output_path)\n",
        "    train_dataset, val_dataset, test_dataset = self.__split_dataset(test_size, val_size)\n",
        "    self.__process_part(train_dataset, tile_shape, stride_shape, f'{output_path}/train')\n",
        "    self.__process_part(val_dataset, tile_shape, stride_shape, f'{output_path}/val')\n",
        "    self.__process_part(test_dataset, tile_shape, stride_shape, f'{output_path}/test')\n",
        "\n",
        "  def __split_dataset(self, test_size, val_size):\n",
        "    index_list = list(range(len(self.img_list)))\n",
        "    first_split_ratio = test_size + val_size\n",
        "    second_split_ratio = test_size / (test_size + val_size)\n",
        "\n",
        "    train_dataset, test_val_dataset = train_test_split(index_list, test_size=first_split_ratio, shuffle=True)\n",
        "    val_dataset, test_dataset = train_test_split(test_val_dataset, test_size=second_split_ratio, shuffle=True)\n",
        "    return train_dataset, val_dataset, test_dataset\n",
        "\n",
        "  def __process_part(self, index_list, tile_shape, stride_shape, output_path):\n",
        "    make_dir(output_path)\n",
        "    make_dir(f'{output_path}/image')\n",
        "    make_dir(f'{output_path}/mask')\n",
        "    for index in tqdm(index_list):\n",
        "      self.__process_element(index, tile_shape, stride_shape, output_path)\n",
        "\n",
        "  def __process_element(self, img_index, tile_shape, stride_shape, output_path):\n",
        "    img = Image.open(self.img_list[img_index]).convert('RGB')\n",
        "    msk = Image.open(self.msk_list[img_index]).convert('L')\n",
        "\n",
        "    img, msk = self.__precrop_element(img, msk)\n",
        "    # img = self.__equalize_image(img)\n",
        "\n",
        "    grid_shape = self.__get_grid_shape(img, tile_shape, stride_shape)\n",
        "    img = self.__pad_image(img, grid_shape, tile_shape, stride_shape)\n",
        "    msk = self.__pad_image(msk, grid_shape, tile_shape, stride_shape)\n",
        "\n",
        "    img = np.array(img)\n",
        "    msk = np.array(msk)\n",
        "    self.__process_image(img, grid_shape, tile_shape, stride_shape, img_index, f'{output_path}/image')\n",
        "    self.__process_image(msk, grid_shape, tile_shape, stride_shape, img_index, f'{output_path}/mask')\n",
        "\n",
        "  def __precrop_element(self, img, msk):\n",
        "    img = np.asarray(img)\n",
        "    msk = np.asarray(msk)\n",
        "    pts = self.__find_contour(img)\n",
        "    img = four_point_transform(img, pts)\n",
        "    msk = four_point_transform(msk, pts)\n",
        "    img = Image.fromarray(img)\n",
        "    msk = Image.fromarray(msk)\n",
        "    return img, msk\n",
        "\n",
        "  def __find_contour(self, img):\n",
        "    gray = cv2.cvtColor(img, cv2.COLOR_BGR2GRAY)\n",
        "    cnts = cv2.findContours(gray.copy(), cv2.RETR_LIST, cv2.CHAIN_APPROX_SIMPLE)\n",
        "    cnts = grab_contours(cnts)\n",
        "    cnts = sorted(cnts, key = cv2.contourArea, reverse = True)[:5]\n",
        "    screenCnt = None\n",
        "    for c in cnts:\n",
        "      peri = cv2.arcLength(c, True)\n",
        "      approx = cv2.approxPolyDP(c, 0.02 * peri, True)\n",
        "      if len(approx) == 4:\n",
        "        screenCnt = approx\n",
        "        break\n",
        "    return screenCnt.reshape(4, 2)\n",
        "\n",
        "  def __equalize_image(self, img):\n",
        "    img = np.asarray(img)\n",
        "    lab = cv2.cvtColor(img, cv2.COLOR_BGR2LAB)\n",
        "    clahe = cv2.createCLAHE(\n",
        "    clipLimit=CLAHE_CLIP_LIMIT,\n",
        "      tileGridSize=(CLAHE_GRID_SIZE,CLAHE_GRID_SIZE)\n",
        "    )\n",
        "    lab[...,0] = clahe.apply(lab[...,0])\n",
        "    img = cv2.cvtColor(lab, cv2.COLOR_LAB2BGR)\n",
        "    return Image.fromarray(img)\n",
        "\n",
        "  def __get_grid_shape(self, image, tile_shape, stride_shape):\n",
        "    x_rest = tile_shape[0] - stride_shape[0]\n",
        "    y_rest = tile_shape[1] - stride_shape[1]\n",
        "    x_count = (image.size[0] - x_rest - 1) // stride_shape[0] + 1\n",
        "    y_count = (image.size[1] - y_rest - 1) // stride_shape[1] + 1\n",
        "    return (x_count, y_count)\n",
        "\n",
        "  def __pad_image(self, image, grid_shape, tile_shape, stride_shape):\n",
        "    x_rest = tile_shape[0] - stride_shape[0]\n",
        "    y_rest = tile_shape[1] - stride_shape[1]\n",
        "    x_size = grid_shape[0] * stride_shape[0] + x_rest\n",
        "    y_size = grid_shape[1] * stride_shape[1] + y_rest\n",
        "    target_size = (x_size, y_size)\n",
        "    return ImageOps.pad(image, size=target_size)\n",
        "\n",
        "  def __process_image(\n",
        "      self,\n",
        "      image,\n",
        "      grid_shape, tile_shape, stride_shape,\n",
        "      img_index,\n",
        "      output_directory\n",
        "  ):\n",
        "    for x in range(grid_shape[0]):\n",
        "      for y in range(grid_shape[1]):\n",
        "        self.__process_square(image, (x, y), tile_shape, stride_shape, img_index, output_directory)\n",
        "\n",
        "  def __process_square(\n",
        "      self,\n",
        "      image,\n",
        "      grid_coord, tile_shape, stride_shape,\n",
        "      img_index,\n",
        "      output_directory\n",
        "  ):\n",
        "    x_index = grid_coord[0]\n",
        "    y_index = grid_coord[1]\n",
        "    x = x_index * stride_shape[0]\n",
        "    y = y_index * stride_shape[1]\n",
        "    tile = image[y:y+tile_shape[1],x:x+tile_shape[0]]\n",
        "    tile = Image.fromarray(tile)\n",
        "    tile.save(f'{output_directory}/{img_index:02d}_{x_index:03d}_{y_index:03d}.tif')"
      ],
      "execution_count": null,
      "outputs": []
    },
    {
      "cell_type": "code",
      "metadata": {
        "id": "o6ONaGVgFb4z"
      },
      "source": [
        "#IMAGE_TYPE = 'original'\n",
        "IMAGE_TYPE = 'goodlight-only-revised'\n",
        "TILE_SHAPE = (256,256)\n",
        "STRIDE_SHAPE = (256,256)"
      ],
      "execution_count": null,
      "outputs": []
    },
    {
      "cell_type": "code",
      "metadata": {
        "colab": {
          "base_uri": "https://localhost:8080/",
          "height": 113,
          "referenced_widgets": [
            "6818ce26f43d4c6da0ac0cb80d34b3fc",
            "bb3596adcbfa4fb4b94efacae74da341",
            "6c1e433a7808470bb7cf6cde780ecb7c",
            "517b611e23f443c68f993fa2520c021a",
            "853a985d819e458b9969ad2b01d613ab",
            "9bafcbe042e64cde8691da34552f8ca8",
            "6d8c14209b8849ee91c8e20dd0044a3a",
            "b3eb39992f68458f97b7c31e0c734969",
            "2ad0140be2ec420eb8e013b62257c8c4",
            "8e8c617900ba4c949109a296ae3db61c",
            "a6de3cad19964898bf9661bfe10d4b09",
            "6a88707869f44f6aa742bcc68e32cdec",
            "b0d233858f5f4680a598493f9b6c6bc9",
            "f502a41e7bb54663924c5a884ae57f7f",
            "096544f5f3684038a3239936da21f8f5",
            "3755511cf5ae48548d74f7cabcdc94dd",
            "60219e0999094feeb426343dbfac1323",
            "e1f3625ea61d47caa1a2cc458804a26f",
            "7a00e5d2ad614007be7c3798110fc25e",
            "f571ead574f7409196750c9e6784c491",
            "2120d53795354633863a386e9175e5db",
            "826be1ccf5a14fc89a32b5247f9f89c1",
            "3c096bf760dc4d9eb473000ada0c113f",
            "00f46f3e2b9f46e7a9e951466a625bf0",
            "df4c2ac1eaeb47d9b86d423b627586ad",
            "0d01f8eb8ec2428cbd4d8c746359f825",
            "efe4fe37304d4a62b17ee66e9b7a51de",
            "2bdf864777ca45f1aa10870e398d763c",
            "e30574e2dd5c441bbe30fa228cb94bf3",
            "89c2e64cfad74b8cbf8f0b759c50de64",
            "aa787db67c3e463c8e93a35dbd5e8e5c",
            "5e0fad9a65064a52ba255bfecae62d27",
            "f0d75656766f43b381b8c053a90f9846"
          ]
        },
        "id": "vpzKXpyr-tto",
        "outputId": "8abbcc64-e736-4941-de79-ce0d19d67fd5"
      },
      "source": [
        "SPLITTER_BASE_FOLDER = '/content/gdrive/MyDrive/semanticSegmentation'\n",
        "SPLITTER_INPUT_DIR = f'{SPLITTER_BASE_FOLDER}/{IMAGE_TYPE}'\n",
        "\n",
        "SPLITTER_OUTPUT_BASE = f'/tmp/semanticSegmentation-{IMAGE_TYPE}'\n",
        "make_dir(SPLITTER_OUTPUT_BASE)\n",
        "SPLITTER_OUTPUT_DIR = f'{SPLITTER_OUTPUT_BASE}/{TILE_SHAPE[0]}x{TILE_SHAPE[1]}'\n",
        "\n",
        "splitter = ImageSplitter(SPLITTER_INPUT_DIR)\n",
        "splitter.transform(TILE_SHAPE, STRIDE_SHAPE, SPLITTER_OUTPUT_DIR)"
      ],
      "execution_count": null,
      "outputs": [
        {
          "output_type": "display_data",
          "data": {
            "text/plain": [
              "  0%|          | 0/9 [00:00<?, ?it/s]"
            ],
            "application/vnd.jupyter.widget-view+json": {
              "version_major": 2,
              "version_minor": 0,
              "model_id": "6818ce26f43d4c6da0ac0cb80d34b3fc"
            }
          },
          "metadata": {}
        },
        {
          "output_type": "display_data",
          "data": {
            "text/plain": [
              "  0%|          | 0/2 [00:00<?, ?it/s]"
            ],
            "application/vnd.jupyter.widget-view+json": {
              "version_major": 2,
              "version_minor": 0,
              "model_id": "6a88707869f44f6aa742bcc68e32cdec"
            }
          },
          "metadata": {}
        },
        {
          "output_type": "display_data",
          "data": {
            "text/plain": [
              "  0%|          | 0/2 [00:00<?, ?it/s]"
            ],
            "application/vnd.jupyter.widget-view+json": {
              "version_major": 2,
              "version_minor": 0,
              "model_id": "3c096bf760dc4d9eb473000ada0c113f"
            }
          },
          "metadata": {}
        }
      ]
    },
    {
      "cell_type": "markdown",
      "metadata": {
        "id": "9jKyWRXRivNI"
      },
      "source": [
        "Class Distribution"
      ]
    },
    {
      "cell_type": "code",
      "metadata": {
        "id": "5BVCapVWvz33"
      },
      "source": [
        "from collections import Counter\n",
        "import pandas as pd\n",
        "pd.options.display.float_format = '{:.2f}'.format"
      ],
      "execution_count": null,
      "outputs": []
    },
    {
      "cell_type": "code",
      "metadata": {
        "id": "UaBz68Jrv7rw"
      },
      "source": [
        "SEG_CLASSES = {\n",
        "    0: \"Background\",\n",
        "    1: \"Thick Ice\",\n",
        "    2: \"Thin Ice\",\n",
        "    3: \"Shadow\",\n",
        "    4: \"Open Water\",\n",
        "    5: \"Unknown\"\n",
        "}"
      ],
      "execution_count": null,
      "outputs": []
    },
    {
      "cell_type": "code",
      "metadata": {
        "id": "N-Dp1eEMiuoS"
      },
      "source": [
        "class DistributionIlustrator:\n",
        "  def __init__(self, input_dir):\n",
        "    self.msk_list = glob.glob(f'{input_dir}/mask/*')\n",
        "\n",
        "  def show(self):\n",
        "    counts = self.__calculate_class_distribution()\n",
        "    return self.__build_pandas_metrics(counts)\n",
        "\n",
        "  def __calculate_class_distribution(self):\n",
        "    counts = Counter()\n",
        "    for msk_path in self.msk_list:\n",
        "      counts += self.__get_mask_count(msk_path)\n",
        "    return counts\n",
        "\n",
        "  def __get_mask_count(self, msk_path):\n",
        "    msk = Image.open(msk_path).convert('L')\n",
        "    unique, counts = np.unique(msk, return_counts=True)\n",
        "    return dict(zip(unique, counts))\n",
        "\n",
        "  def __build_pandas_metrics(self, counts):\n",
        "    max_count = counts.most_common(1)[0][1]\n",
        "\n",
        "    df = pd.DataFrame.from_dict(SEG_CLASSES, orient='index', columns=['Labels'])\n",
        "    df['Count'] = df.index.map(counts)\n",
        "    df['Percentage'] = df['Count'] / sum(counts.values()) * 100\n",
        "    df['Weight'] = max_count / df['Count']\n",
        "\n",
        "    df.sort_index(inplace=True)\n",
        "    return df"
      ],
      "execution_count": null,
      "outputs": []
    },
    {
      "cell_type": "code",
      "metadata": {
        "colab": {
          "base_uri": "https://localhost:8080/",
          "height": 238
        },
        "id": "fXwcsLuFxbHn",
        "outputId": "58d29c4a-bb92-4d3b-bbd9-3d0063b2cb8e"
      },
      "source": [
        "selector = DistributionIlustrator(f'{SPLITTER_OUTPUT_DIR}/train')\n",
        "selector.show()"
      ],
      "execution_count": null,
      "outputs": [
        {
          "output_type": "execute_result",
          "data": {
            "text/plain": [
              "       Labels      Count  Percentage  Weight\n",
              "0  Background    6054455        2.74   28.09\n",
              "1   Thick Ice  170087657       76.97    1.00\n",
              "2    Thin Ice   22274830       10.08    7.64\n",
              "3      Shadow   14060974        6.36   12.10\n",
              "4  Open Water    8509476        3.85   19.99\n",
              "5     Unknown          0        0.00     inf"
            ],
            "text/html": [
              "\n",
              "  <div id=\"df-01908259-8c3c-46e2-9831-7b3a237e137c\">\n",
              "    <div class=\"colab-df-container\">\n",
              "      <div>\n",
              "<style scoped>\n",
              "    .dataframe tbody tr th:only-of-type {\n",
              "        vertical-align: middle;\n",
              "    }\n",
              "\n",
              "    .dataframe tbody tr th {\n",
              "        vertical-align: top;\n",
              "    }\n",
              "\n",
              "    .dataframe thead th {\n",
              "        text-align: right;\n",
              "    }\n",
              "</style>\n",
              "<table border=\"1\" class=\"dataframe\">\n",
              "  <thead>\n",
              "    <tr style=\"text-align: right;\">\n",
              "      <th></th>\n",
              "      <th>Labels</th>\n",
              "      <th>Count</th>\n",
              "      <th>Percentage</th>\n",
              "      <th>Weight</th>\n",
              "    </tr>\n",
              "  </thead>\n",
              "  <tbody>\n",
              "    <tr>\n",
              "      <th>0</th>\n",
              "      <td>Background</td>\n",
              "      <td>6054455</td>\n",
              "      <td>2.74</td>\n",
              "      <td>28.09</td>\n",
              "    </tr>\n",
              "    <tr>\n",
              "      <th>1</th>\n",
              "      <td>Thick Ice</td>\n",
              "      <td>170087657</td>\n",
              "      <td>76.97</td>\n",
              "      <td>1.00</td>\n",
              "    </tr>\n",
              "    <tr>\n",
              "      <th>2</th>\n",
              "      <td>Thin Ice</td>\n",
              "      <td>22274830</td>\n",
              "      <td>10.08</td>\n",
              "      <td>7.64</td>\n",
              "    </tr>\n",
              "    <tr>\n",
              "      <th>3</th>\n",
              "      <td>Shadow</td>\n",
              "      <td>14060974</td>\n",
              "      <td>6.36</td>\n",
              "      <td>12.10</td>\n",
              "    </tr>\n",
              "    <tr>\n",
              "      <th>4</th>\n",
              "      <td>Open Water</td>\n",
              "      <td>8509476</td>\n",
              "      <td>3.85</td>\n",
              "      <td>19.99</td>\n",
              "    </tr>\n",
              "    <tr>\n",
              "      <th>5</th>\n",
              "      <td>Unknown</td>\n",
              "      <td>0</td>\n",
              "      <td>0.00</td>\n",
              "      <td>inf</td>\n",
              "    </tr>\n",
              "  </tbody>\n",
              "</table>\n",
              "</div>\n",
              "      <button class=\"colab-df-convert\" onclick=\"convertToInteractive('df-01908259-8c3c-46e2-9831-7b3a237e137c')\"\n",
              "              title=\"Convert this dataframe to an interactive table.\"\n",
              "              style=\"display:none;\">\n",
              "        \n",
              "  <svg xmlns=\"http://www.w3.org/2000/svg\" height=\"24px\"viewBox=\"0 0 24 24\"\n",
              "       width=\"24px\">\n",
              "    <path d=\"M0 0h24v24H0V0z\" fill=\"none\"/>\n",
              "    <path d=\"M18.56 5.44l.94 2.06.94-2.06 2.06-.94-2.06-.94-.94-2.06-.94 2.06-2.06.94zm-11 1L8.5 8.5l.94-2.06 2.06-.94-2.06-.94L8.5 2.5l-.94 2.06-2.06.94zm10 10l.94 2.06.94-2.06 2.06-.94-2.06-.94-.94-2.06-.94 2.06-2.06.94z\"/><path d=\"M17.41 7.96l-1.37-1.37c-.4-.4-.92-.59-1.43-.59-.52 0-1.04.2-1.43.59L10.3 9.45l-7.72 7.72c-.78.78-.78 2.05 0 2.83L4 21.41c.39.39.9.59 1.41.59.51 0 1.02-.2 1.41-.59l7.78-7.78 2.81-2.81c.8-.78.8-2.07 0-2.86zM5.41 20L4 18.59l7.72-7.72 1.47 1.35L5.41 20z\"/>\n",
              "  </svg>\n",
              "      </button>\n",
              "      \n",
              "  <style>\n",
              "    .colab-df-container {\n",
              "      display:flex;\n",
              "      flex-wrap:wrap;\n",
              "      gap: 12px;\n",
              "    }\n",
              "\n",
              "    .colab-df-convert {\n",
              "      background-color: #E8F0FE;\n",
              "      border: none;\n",
              "      border-radius: 50%;\n",
              "      cursor: pointer;\n",
              "      display: none;\n",
              "      fill: #1967D2;\n",
              "      height: 32px;\n",
              "      padding: 0 0 0 0;\n",
              "      width: 32px;\n",
              "    }\n",
              "\n",
              "    .colab-df-convert:hover {\n",
              "      background-color: #E2EBFA;\n",
              "      box-shadow: 0px 1px 2px rgba(60, 64, 67, 0.3), 0px 1px 3px 1px rgba(60, 64, 67, 0.15);\n",
              "      fill: #174EA6;\n",
              "    }\n",
              "\n",
              "    [theme=dark] .colab-df-convert {\n",
              "      background-color: #3B4455;\n",
              "      fill: #D2E3FC;\n",
              "    }\n",
              "\n",
              "    [theme=dark] .colab-df-convert:hover {\n",
              "      background-color: #434B5C;\n",
              "      box-shadow: 0px 1px 3px 1px rgba(0, 0, 0, 0.15);\n",
              "      filter: drop-shadow(0px 1px 2px rgba(0, 0, 0, 0.3));\n",
              "      fill: #FFFFFF;\n",
              "    }\n",
              "  </style>\n",
              "\n",
              "      <script>\n",
              "        const buttonEl =\n",
              "          document.querySelector('#df-01908259-8c3c-46e2-9831-7b3a237e137c button.colab-df-convert');\n",
              "        buttonEl.style.display =\n",
              "          google.colab.kernel.accessAllowed ? 'block' : 'none';\n",
              "\n",
              "        async function convertToInteractive(key) {\n",
              "          const element = document.querySelector('#df-01908259-8c3c-46e2-9831-7b3a237e137c');\n",
              "          const dataTable =\n",
              "            await google.colab.kernel.invokeFunction('convertToInteractive',\n",
              "                                                     [key], {});\n",
              "          if (!dataTable) return;\n",
              "\n",
              "          const docLinkHtml = 'Like what you see? Visit the ' +\n",
              "            '<a target=\"_blank\" href=https://colab.research.google.com/notebooks/data_table.ipynb>data table notebook</a>'\n",
              "            + ' to learn more about interactive tables.';\n",
              "          element.innerHTML = '';\n",
              "          dataTable['output_type'] = 'display_data';\n",
              "          await google.colab.output.renderOutput(dataTable, element);\n",
              "          const docLink = document.createElement('div');\n",
              "          docLink.innerHTML = docLinkHtml;\n",
              "          element.appendChild(docLink);\n",
              "        }\n",
              "      </script>\n",
              "    </div>\n",
              "  </div>\n",
              "  "
            ]
          },
          "metadata": {},
          "execution_count": 13
        }
      ]
    },
    {
      "cell_type": "code",
      "metadata": {
        "colab": {
          "base_uri": "https://localhost:8080/",
          "height": 238
        },
        "id": "Q42rWj3LozC2",
        "outputId": "3801cd75-a8a5-41e2-d3fc-5ab1cff67b58"
      },
      "source": [
        "selector = DistributionIlustrator(f'{SPLITTER_OUTPUT_DIR}/val') \n",
        "selector.show()"
      ],
      "execution_count": null,
      "outputs": [
        {
          "output_type": "execute_result",
          "data": {
            "text/plain": [
              "       Labels     Count  Percentage  Weight\n",
              "0  Background    451642        0.90   81.02\n",
              "1   Thick Ice  36592347       72.70    1.00\n",
              "2    Thin Ice   8568887       17.02    4.27\n",
              "3      Shadow   3160907        6.28   11.58\n",
              "4  Open Water   1557865        3.10   23.49\n",
              "5     Unknown         0        0.00     inf"
            ],
            "text/html": [
              "\n",
              "  <div id=\"df-4e5914d7-514c-4652-aa12-b739e3da8038\">\n",
              "    <div class=\"colab-df-container\">\n",
              "      <div>\n",
              "<style scoped>\n",
              "    .dataframe tbody tr th:only-of-type {\n",
              "        vertical-align: middle;\n",
              "    }\n",
              "\n",
              "    .dataframe tbody tr th {\n",
              "        vertical-align: top;\n",
              "    }\n",
              "\n",
              "    .dataframe thead th {\n",
              "        text-align: right;\n",
              "    }\n",
              "</style>\n",
              "<table border=\"1\" class=\"dataframe\">\n",
              "  <thead>\n",
              "    <tr style=\"text-align: right;\">\n",
              "      <th></th>\n",
              "      <th>Labels</th>\n",
              "      <th>Count</th>\n",
              "      <th>Percentage</th>\n",
              "      <th>Weight</th>\n",
              "    </tr>\n",
              "  </thead>\n",
              "  <tbody>\n",
              "    <tr>\n",
              "      <th>0</th>\n",
              "      <td>Background</td>\n",
              "      <td>451642</td>\n",
              "      <td>0.90</td>\n",
              "      <td>81.02</td>\n",
              "    </tr>\n",
              "    <tr>\n",
              "      <th>1</th>\n",
              "      <td>Thick Ice</td>\n",
              "      <td>36592347</td>\n",
              "      <td>72.70</td>\n",
              "      <td>1.00</td>\n",
              "    </tr>\n",
              "    <tr>\n",
              "      <th>2</th>\n",
              "      <td>Thin Ice</td>\n",
              "      <td>8568887</td>\n",
              "      <td>17.02</td>\n",
              "      <td>4.27</td>\n",
              "    </tr>\n",
              "    <tr>\n",
              "      <th>3</th>\n",
              "      <td>Shadow</td>\n",
              "      <td>3160907</td>\n",
              "      <td>6.28</td>\n",
              "      <td>11.58</td>\n",
              "    </tr>\n",
              "    <tr>\n",
              "      <th>4</th>\n",
              "      <td>Open Water</td>\n",
              "      <td>1557865</td>\n",
              "      <td>3.10</td>\n",
              "      <td>23.49</td>\n",
              "    </tr>\n",
              "    <tr>\n",
              "      <th>5</th>\n",
              "      <td>Unknown</td>\n",
              "      <td>0</td>\n",
              "      <td>0.00</td>\n",
              "      <td>inf</td>\n",
              "    </tr>\n",
              "  </tbody>\n",
              "</table>\n",
              "</div>\n",
              "      <button class=\"colab-df-convert\" onclick=\"convertToInteractive('df-4e5914d7-514c-4652-aa12-b739e3da8038')\"\n",
              "              title=\"Convert this dataframe to an interactive table.\"\n",
              "              style=\"display:none;\">\n",
              "        \n",
              "  <svg xmlns=\"http://www.w3.org/2000/svg\" height=\"24px\"viewBox=\"0 0 24 24\"\n",
              "       width=\"24px\">\n",
              "    <path d=\"M0 0h24v24H0V0z\" fill=\"none\"/>\n",
              "    <path d=\"M18.56 5.44l.94 2.06.94-2.06 2.06-.94-2.06-.94-.94-2.06-.94 2.06-2.06.94zm-11 1L8.5 8.5l.94-2.06 2.06-.94-2.06-.94L8.5 2.5l-.94 2.06-2.06.94zm10 10l.94 2.06.94-2.06 2.06-.94-2.06-.94-.94-2.06-.94 2.06-2.06.94z\"/><path d=\"M17.41 7.96l-1.37-1.37c-.4-.4-.92-.59-1.43-.59-.52 0-1.04.2-1.43.59L10.3 9.45l-7.72 7.72c-.78.78-.78 2.05 0 2.83L4 21.41c.39.39.9.59 1.41.59.51 0 1.02-.2 1.41-.59l7.78-7.78 2.81-2.81c.8-.78.8-2.07 0-2.86zM5.41 20L4 18.59l7.72-7.72 1.47 1.35L5.41 20z\"/>\n",
              "  </svg>\n",
              "      </button>\n",
              "      \n",
              "  <style>\n",
              "    .colab-df-container {\n",
              "      display:flex;\n",
              "      flex-wrap:wrap;\n",
              "      gap: 12px;\n",
              "    }\n",
              "\n",
              "    .colab-df-convert {\n",
              "      background-color: #E8F0FE;\n",
              "      border: none;\n",
              "      border-radius: 50%;\n",
              "      cursor: pointer;\n",
              "      display: none;\n",
              "      fill: #1967D2;\n",
              "      height: 32px;\n",
              "      padding: 0 0 0 0;\n",
              "      width: 32px;\n",
              "    }\n",
              "\n",
              "    .colab-df-convert:hover {\n",
              "      background-color: #E2EBFA;\n",
              "      box-shadow: 0px 1px 2px rgba(60, 64, 67, 0.3), 0px 1px 3px 1px rgba(60, 64, 67, 0.15);\n",
              "      fill: #174EA6;\n",
              "    }\n",
              "\n",
              "    [theme=dark] .colab-df-convert {\n",
              "      background-color: #3B4455;\n",
              "      fill: #D2E3FC;\n",
              "    }\n",
              "\n",
              "    [theme=dark] .colab-df-convert:hover {\n",
              "      background-color: #434B5C;\n",
              "      box-shadow: 0px 1px 3px 1px rgba(0, 0, 0, 0.15);\n",
              "      filter: drop-shadow(0px 1px 2px rgba(0, 0, 0, 0.3));\n",
              "      fill: #FFFFFF;\n",
              "    }\n",
              "  </style>\n",
              "\n",
              "      <script>\n",
              "        const buttonEl =\n",
              "          document.querySelector('#df-4e5914d7-514c-4652-aa12-b739e3da8038 button.colab-df-convert');\n",
              "        buttonEl.style.display =\n",
              "          google.colab.kernel.accessAllowed ? 'block' : 'none';\n",
              "\n",
              "        async function convertToInteractive(key) {\n",
              "          const element = document.querySelector('#df-4e5914d7-514c-4652-aa12-b739e3da8038');\n",
              "          const dataTable =\n",
              "            await google.colab.kernel.invokeFunction('convertToInteractive',\n",
              "                                                     [key], {});\n",
              "          if (!dataTable) return;\n",
              "\n",
              "          const docLinkHtml = 'Like what you see? Visit the ' +\n",
              "            '<a target=\"_blank\" href=https://colab.research.google.com/notebooks/data_table.ipynb>data table notebook</a>'\n",
              "            + ' to learn more about interactive tables.';\n",
              "          element.innerHTML = '';\n",
              "          dataTable['output_type'] = 'display_data';\n",
              "          await google.colab.output.renderOutput(dataTable, element);\n",
              "          const docLink = document.createElement('div');\n",
              "          docLink.innerHTML = docLinkHtml;\n",
              "          element.appendChild(docLink);\n",
              "        }\n",
              "      </script>\n",
              "    </div>\n",
              "  </div>\n",
              "  "
            ]
          },
          "metadata": {},
          "execution_count": 14
        }
      ]
    },
    {
      "cell_type": "markdown",
      "metadata": {
        "id": "XI0wCa3_mhmT"
      },
      "source": [
        "Examples Selection"
      ]
    },
    {
      "cell_type": "code",
      "metadata": {
        "id": "k_KvKB5bmPtP"
      },
      "source": [
        "class ExamplesSelector:\n",
        "  def __init__(self, input_dir):\n",
        "    self.img_list = glob.glob(f'{input_dir}/image/*')\n",
        "    self.img_list.sort()\n",
        "    self.msk_list = glob.glob(f'{input_dir}/mask/*')\n",
        "    self.msk_list.sort()\n",
        "\n",
        "  def transform(self, tile_shape, output_path, n_samples=24):\n",
        "    make_dir(output_path)\n",
        "    samples_list = self.__select_samples(n_samples)\n",
        "    self.__process_samples(samples_list, tile_shape, output_path)\n",
        "\n",
        "  def __select_samples(self, n_samples):\n",
        "    index_list = list(range(len(self.img_list)))\n",
        "\n",
        "    index_list = sorted(index_list, key=self.__get_order_metric, reverse=True)\n",
        "    values_list = [self.__get_order_metric(ind) for ind in index_list]\n",
        "    threshold_value = values_list[0] - 1\n",
        "    threshold_index = values_list.index(threshold_value)\n",
        "    index_list = index_list[:threshold_index]\n",
        "\n",
        "    return random.choices(index_list, k=n_samples)\n",
        "\n",
        "  def __get_order_metric(self, img_index):\n",
        "    msk = Image.open(self.msk_list[img_index]).convert('L')\n",
        "    unique_elements = np.unique(msk)\n",
        "    return len(unique_elements)\n",
        "\n",
        "  def __process_samples(self, index_list, tile_shape, output_path):\n",
        "    make_dir(output_path)\n",
        "    make_dir(f'{output_path}/image')\n",
        "    make_dir(f'{output_path}/mask')\n",
        "    for index in tqdm(index_list):\n",
        "      self.__process_element(index, tile_shape, output_path)\n",
        "\n",
        "  def __process_element(self, img_index, tile_shape, output_path):\n",
        "    img = Image.open(self.img_list[img_index]).convert('RGB')\n",
        "    msk = Image.open(self.msk_list[img_index]).convert('L')\n",
        "\n",
        "    basename = os.path.basename(self.img_list[img_index])\n",
        "    img.save(f'{output_path}/image/{basename}')\n",
        "    msk.save(f'{output_path}/mask/{basename}')"
      ],
      "execution_count": null,
      "outputs": []
    },
    {
      "cell_type": "code",
      "metadata": {
        "colab": {
          "base_uri": "https://localhost:8080/",
          "height": 49,
          "referenced_widgets": [
            "2ae8e716ae99437f82d11125d104be46",
            "8379d1a7f4fd422fad23fff531a97f8d",
            "652ec5527d43467c80ff5aa63097932b",
            "a2f7a9abd96b4ab2b7813d4b9e081fa3",
            "e4809c17ab47402fa9efdf3d4b720879",
            "a41d28f8b1644523af530247a7497e2e",
            "2eb6a71e97b544b8be36575779cb6f36",
            "b52166397e644bbf98da1fd4d1ef42bf",
            "58b962c3616f492db7fc49c59cdf62a4",
            "d1fb9372187f42f19b407568647c3829",
            "440ff68dbd5243b7b6c73240645edc1d"
          ]
        },
        "id": "S9cEGAXNqs48",
        "outputId": "f9e9d9f4-222c-4344-8aaa-d962d92ed6e8"
      },
      "source": [
        "SELECTOR_BASE_FOLDER = SPLITTER_OUTPUT_DIR\n",
        "SELECTOR_INPUT_DIR = f'{SELECTOR_BASE_FOLDER}/val'\n",
        "\n",
        "SELECTOR_OUTPUT_BASE = f'/tmp/semanticSegmentation-{IMAGE_TYPE}-examples'\n",
        "make_dir(SELECTOR_OUTPUT_BASE)\n",
        "SELECTOR_OUTPUT_DIR = f'{SELECTOR_OUTPUT_BASE}/{TILE_SHAPE[0]}x{TILE_SHAPE[1]}'\n",
        "\n",
        "selector = ExamplesSelector(SELECTOR_INPUT_DIR)\n",
        "selector.transform(TILE_SHAPE, SELECTOR_OUTPUT_DIR)"
      ],
      "execution_count": null,
      "outputs": [
        {
          "output_type": "display_data",
          "data": {
            "text/plain": [
              "  0%|          | 0/24 [00:00<?, ?it/s]"
            ],
            "application/vnd.jupyter.widget-view+json": {
              "version_major": 2,
              "version_minor": 0,
              "model_id": "2ae8e716ae99437f82d11125d104be46"
            }
          },
          "metadata": {}
        }
      ]
    },
    {
      "cell_type": "markdown",
      "metadata": {
        "id": "TyEu8urb-7uH"
      },
      "source": [
        "Artifacts Upload"
      ]
    },
    {
      "cell_type": "code",
      "metadata": {
        "colab": {
          "base_uri": "https://localhost:8080/"
        },
        "id": "L3Eoqk1lBQ0D",
        "outputId": "ac3c16dc-3af7-42e6-dcb1-57c9ff531484"
      },
      "source": [
        "!pip install -q wandb"
      ],
      "execution_count": null,
      "outputs": [
        {
          "output_type": "stream",
          "name": "stdout",
          "text": [
            "\u001b[K     |████████████████████████████████| 1.8 MB 22.2 MB/s \n",
            "\u001b[K     |████████████████████████████████| 181 kB 36.0 MB/s \n",
            "\u001b[K     |████████████████████████████████| 145 kB 58.4 MB/s \n",
            "\u001b[K     |████████████████████████████████| 63 kB 1.9 MB/s \n",
            "\u001b[?25h  Building wheel for pathtools (setup.py) ... \u001b[?25l\u001b[?25hdone\n"
          ]
        }
      ]
    },
    {
      "cell_type": "code",
      "metadata": {
        "id": "7TBuDiE4BOrc"
      },
      "source": [
        "import wandb"
      ],
      "execution_count": null,
      "outputs": []
    },
    {
      "cell_type": "code",
      "metadata": {
        "colab": {
          "base_uri": "https://localhost:8080/",
          "height": 141
        },
        "id": "8W4GykhfCF-c",
        "outputId": "204d161f-bd63-4005-f16d-3042723f479a"
      },
      "source": [
        "WANDB_PROJECT = 'IceClassificationGoodlightOnlyRevised'\n",
        "WANDB_ENTITY = 'semanticsegmentation'\n",
        "\n",
        "run = wandb.init(\n",
        "    project=WANDB_PROJECT,\n",
        "    entity=WANDB_ENTITY,\n",
        "    job_type=\"dataset-creation\"\n",
        "  )"
      ],
      "execution_count": null,
      "outputs": [
        {
          "output_type": "display_data",
          "data": {
            "text/plain": [
              "<IPython.core.display.Javascript object>"
            ],
            "application/javascript": [
              "\n",
              "        window._wandbApiKey = new Promise((resolve, reject) => {\n",
              "            function loadScript(url) {\n",
              "            return new Promise(function(resolve, reject) {\n",
              "                let newScript = document.createElement(\"script\");\n",
              "                newScript.onerror = reject;\n",
              "                newScript.onload = resolve;\n",
              "                document.body.appendChild(newScript);\n",
              "                newScript.src = url;\n",
              "            });\n",
              "            }\n",
              "            loadScript(\"https://cdn.jsdelivr.net/npm/postmate/build/postmate.min.js\").then(() => {\n",
              "            const iframe = document.createElement('iframe')\n",
              "            iframe.style.cssText = \"width:0;height:0;border:none\"\n",
              "            document.body.appendChild(iframe)\n",
              "            const handshake = new Postmate({\n",
              "                container: iframe,\n",
              "                url: 'https://wandb.ai/authorize'\n",
              "            });\n",
              "            const timeout = setTimeout(() => reject(\"Couldn't auto authenticate\"), 5000)\n",
              "            handshake.then(function(child) {\n",
              "                child.on('authorize', data => {\n",
              "                    clearTimeout(timeout)\n",
              "                    resolve(data)\n",
              "                });\n",
              "            });\n",
              "            })\n",
              "        });\n",
              "    "
            ]
          },
          "metadata": {}
        },
        {
          "output_type": "stream",
          "name": "stderr",
          "text": [
            "\u001b[34m\u001b[1mwandb\u001b[0m: You can find your API key in your browser here: https://wandb.ai/authorize\n"
          ]
        },
        {
          "name": "stdout",
          "output_type": "stream",
          "text": [
            "wandb: Paste an API key from your profile and hit enter, or press ctrl+c to quit: ··········\n"
          ]
        },
        {
          "output_type": "stream",
          "name": "stderr",
          "text": [
            "\u001b[34m\u001b[1mwandb\u001b[0m: Appending key for api.wandb.ai to your netrc file: /root/.netrc\n"
          ]
        },
        {
          "output_type": "display_data",
          "data": {
            "text/plain": [
              "<IPython.core.display.HTML object>"
            ],
            "text/html": [
              "Tracking run with wandb version 0.12.16"
            ]
          },
          "metadata": {}
        },
        {
          "output_type": "display_data",
          "data": {
            "text/plain": [
              "<IPython.core.display.HTML object>"
            ],
            "text/html": [
              "Run data is saved locally in <code>/content/wandb/run-20220517_175644-3cix8gkx</code>"
            ]
          },
          "metadata": {}
        },
        {
          "output_type": "display_data",
          "data": {
            "text/plain": [
              "<IPython.core.display.HTML object>"
            ],
            "text/html": [
              "Syncing run <strong><a href=\"https://wandb.ai/semanticsegmentation/IceClassificationGoodlightOnlyRevised/runs/3cix8gkx\" target=\"_blank\">ethereal-waterfall-1</a></strong> to <a href=\"https://wandb.ai/semanticsegmentation/IceClassificationGoodlightOnlyRevised\" target=\"_blank\">Weights & Biases</a> (<a href=\"https://wandb.me/run\" target=\"_blank\">docs</a>)<br/>"
            ]
          },
          "metadata": {}
        }
      ]
    },
    {
      "cell_type": "code",
      "metadata": {
        "colab": {
          "base_uri": "https://localhost:8080/"
        },
        "id": "IhuSoR6q-vVK",
        "outputId": "743ce666-56dd-4819-8d18-bc833c37097e"
      },
      "source": [
        "tiles_dataset_artifact = wandb.Artifact(f'ice-tiles-dataset-{IMAGE_TYPE}', type='dataset')\n",
        "tiles_dataset_artifact.add_dir(SPLITTER_OUTPUT_DIR, name=f'{TILE_SHAPE[0]}x{TILE_SHAPE[1]}')\n",
        "run.log_artifact(tiles_dataset_artifact)"
      ],
      "execution_count": null,
      "outputs": [
        {
          "output_type": "stream",
          "name": "stderr",
          "text": [
            "\u001b[34m\u001b[1mwandb\u001b[0m: Adding directory to artifact (/tmp/semanticSegmentation-goodlight-only-revised/256x256)... Done. 19.4s\n"
          ]
        },
        {
          "output_type": "execute_result",
          "data": {
            "text/plain": [
              "<wandb.sdk.wandb_artifacts.Artifact at 0x7f0eb50eb790>"
            ]
          },
          "metadata": {},
          "execution_count": 20
        }
      ]
    },
    {
      "cell_type": "code",
      "metadata": {
        "colab": {
          "base_uri": "https://localhost:8080/"
        },
        "id": "mdWjzUWmsgPG",
        "outputId": "319f4b86-f3fb-4f04-c043-074ad694829c"
      },
      "source": [
        "tiles_examples_artifact = wandb.Artifact(f'ice-tiles-examples-{IMAGE_TYPE}', type='dataset')\n",
        "tiles_examples_artifact.add_dir(SELECTOR_OUTPUT_DIR, name=f'{TILE_SHAPE[0]}x{TILE_SHAPE[1]}')\n",
        "run.log_artifact(tiles_examples_artifact)"
      ],
      "execution_count": null,
      "outputs": [
        {
          "output_type": "stream",
          "name": "stderr",
          "text": [
            "\u001b[34m\u001b[1mwandb\u001b[0m: Adding directory to artifact (/tmp/semanticSegmentation-goodlight-only-revised-examples/256x256)... Done. 0.1s\n"
          ]
        },
        {
          "output_type": "execute_result",
          "data": {
            "text/plain": [
              "<wandb.sdk.wandb_artifacts.Artifact at 0x7f0eb1fc2290>"
            ]
          },
          "metadata": {},
          "execution_count": 21
        }
      ]
    },
    {
      "cell_type": "code",
      "metadata": {
        "colab": {
          "base_uri": "https://localhost:8080/",
          "height": 87,
          "referenced_widgets": [
            "931fd6ca80f145c8b744e5f42fafcab1",
            "fb8253bf30fd4d5b84f78e6dad0d88cd",
            "2ff22228ac4947609450dd56904280d0",
            "3aec493b1afc4c56bde34ab6ca84c930",
            "055484e3470b4873b863ce55267e4a6f",
            "96c1c407102446a6bcb540672c03255e",
            "bd6c4b11b2bc43f099e4bf831f9d7176",
            "3535f10cef7a44e7a15a98ef2805c835"
          ]
        },
        "id": "qOTFypn-DKfu",
        "outputId": "d1ec754d-b8aa-4fde-e302-3bdc841c59fc"
      },
      "source": [
        "run.finish()"
      ],
      "execution_count": null,
      "outputs": [
        {
          "output_type": "display_data",
          "data": {
            "text/plain": [
              "<IPython.core.display.HTML object>"
            ],
            "text/html": [
              "Waiting for W&B process to finish... <strong style=\"color:green\">(success).</strong>"
            ]
          },
          "metadata": {}
        },
        {
          "output_type": "display_data",
          "data": {
            "text/plain": [
              "VBox(children=(Label(value='1173.563 MB of 1173.563 MB uploaded (0.313 MB deduped)\\r'), FloatProgress(value=1.…"
            ],
            "application/vnd.jupyter.widget-view+json": {
              "version_major": 2,
              "version_minor": 0,
              "model_id": "931fd6ca80f145c8b744e5f42fafcab1"
            }
          },
          "metadata": {}
        },
        {
          "output_type": "display_data",
          "data": {
            "text/plain": [
              "<IPython.core.display.HTML object>"
            ],
            "text/html": [
              "Synced <strong style=\"color:#cdcd00\">ethereal-waterfall-1</strong>: <a href=\"https://wandb.ai/semanticsegmentation/IceClassificationGoodlightOnlyRevised/runs/3cix8gkx\" target=\"_blank\">https://wandb.ai/semanticsegmentation/IceClassificationGoodlightOnlyRevised/runs/3cix8gkx</a><br/>Synced 5 W&B file(s), 0 media file(s), 8943 artifact file(s) and 0 other file(s)"
            ]
          },
          "metadata": {}
        },
        {
          "output_type": "display_data",
          "data": {
            "text/plain": [
              "<IPython.core.display.HTML object>"
            ],
            "text/html": [
              "Find logs at: <code>./wandb/run-20220517_175644-3cix8gkx/logs</code>"
            ]
          },
          "metadata": {}
        }
      ]
    }
  ]
}